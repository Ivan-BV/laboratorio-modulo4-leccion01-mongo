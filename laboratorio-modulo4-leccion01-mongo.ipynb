{
 "cells": [
  {
   "cell_type": "markdown",
   "metadata": {},
   "source": [
    "\n",
    "<div style=\"text-align: center;\">\n",
    "  <img src=\"https://github.com/Hack-io-Data/Imagenes/blob/main/01-LogosHackio/logo_naranja@4x.png?raw=true\" alt=\"esquema\" />\n",
    "</div>\n",
    "\n",
    "\n",
    "### 1. Todas las empresas cuyo nombre sea 'Babelgum'. Recupera solo su campo `name`.\n",
    "### 2. Todas las empresas que tienen más de 5000 empleados. Limita la búsqueda a 20 empresas y ordénalas por **número de empleados**.\n",
    "### 3. Todas las empresas fundadas entre 2000 y 2005, incluyendo ambos años. Recupera solo los campos `name` y `founded_year`.\n",
    "### 4. Todas las empresas que tuvieron una valoración de más de 100.000.000 y que fueron fundadas antes de 2010. Recupera solo los campos `name` e `ipo`.\n",
    "### 5. Todas las empresas que tienen menos de 1000 empleados y que fueron fundadas antes de 2005. Ordénalas por el número de empleados y limita la búsqueda a 10 empresas.\n",
    "### 6. Todas las empresas que no incluyen el campo `partners`.\n",
    "### 7. Todas las empresas que tienen un valor nulo en el campo `category_code`.\n",
    "### 8. Todas las empresas que tienen al menos 100 empleados pero menos de 1000. Recupera solo los campos `name` y `number of employees`.\n",
    "### 9. Ordena todas las empresas por su precio de IPO en orden descendente.\n",
    "### 10. Recupera las 10 empresas con más empleados, ordenadas por el `número de empleados`.\n",
    "### 11. Todas las empresas fundadas en el segundo semestre del año. Limita tu búsqueda a 1000 empresas.\n",
    "### 12. Todas las empresas fundadas antes del año 2000 que tienen un monto de adquisición superior a 10.000.000.\n",
    "### 13. Todas las empresas que han sido adquiridas después de 2010, ordénalas por el monto de adquisición, y recupera solo los campos `name` y `acquisition`.\n",
    "### 14. Ordena las empresas por su `founded year`, recuperando solo los campos `name` y `founded year`.\n",
    "### 15. Todas las empresas que han sido fundadas en los primeros siete días del mes, incluyendo el séptimo. Ordénalas por su `acquisition price` en orden descendente. Limita la búsqueda a 10 documentos.\n",
    "### 16. Todas las empresas en la categoría 'web' que tienen más de 4000 empleados. Ordénalas por la cantidad de empleados en orden ascendente.\n",
    "### 17. Todas las empresas cuyo monto de adquisición es superior a 10.000.000, y cuya moneda es 'EUR'.\n",
    "### 18. Todas las empresas que han sido adquiridas en el primer trimestre del año. Limita la búsqueda a 10 empresas, y recupera solo los campos `name` y `acquisition`."
   ]
  },
  {
   "cell_type": "code",
   "execution_count": 2,
   "metadata": {},
   "outputs": [],
   "source": [
    "import pandas as pd\n",
    "import numpy as np\n",
    "\n",
    "from datetime import datetime\n",
    "\n",
    "import pymongo\n",
    "\n",
    "from src import soporte_mongo as sm\n",
    "\n",
    "pd.set_option('display.max_columns', None)"
   ]
  },
  {
   "cell_type": "markdown",
   "metadata": {},
   "source": [
    "# Conexión a la bbdd"
   ]
  },
  {
   "cell_type": "code",
   "execution_count": null,
   "metadata": {},
   "outputs": [],
   "source": [
    "cliente = pymongo.MongoClient()\n",
    "bbdd = cliente[\"lab1\"]\n",
    "datos = bbdd['datos']"
   ]
  },
  {
   "cell_type": "code",
   "execution_count": null,
   "metadata": {},
   "outputs": [],
   "source": [
    "# 1\n",
    "\n",
    "df = pd.DataFrame(datos.find({\"name\": \"Babelgum\"}))[\"name\"].reset_index()\n",
    "df"
   ]
  },
  {
   "cell_type": "code",
   "execution_count": null,
   "metadata": {},
   "outputs": [],
   "source": [
    "# 2\n",
    "\n",
    "df = pd.DataFrame(datos.find({\"number_of_employees\": {\"$gt\":5000}}).limit(20).sort(\"number_of_employees\"))\n",
    "df"
   ]
  },
  {
   "cell_type": "code",
   "execution_count": null,
   "metadata": {},
   "outputs": [],
   "source": [
    "# 3\n",
    "\n",
    "df = pd.DataFrame(datos.find({\"$and\": [{\"founded_year\":{\"$gte\":2000}},{\"founded_year\": {\"$lte\":2004}}]}))[[\"name\", \"founded_year\"]]\n",
    "df"
   ]
  },
  {
   "cell_type": "code",
   "execution_count": null,
   "metadata": {},
   "outputs": [],
   "source": [
    "# 4\n",
    "\n",
    "df = pd.DataFrame(datos.find({\"$and\": [{\"founded_year\": {\"$lt\":2010}},{\"ipo.valuation_amount\": {\"$gt\":100000000}}]},{\"name\": 1, \"ipo\": 1, \"_id\": 0}))\n",
    "df"
   ]
  },
  {
   "cell_type": "code",
   "execution_count": null,
   "metadata": {},
   "outputs": [],
   "source": [
    "# 5\n",
    "\n",
    "df = pd.DataFrame(datos.find({\"$and\": [{\"founded_year\": {\"$lt\":2005}},{\"number_of_employees\": {\"$lt\":1000}}]}).limit(10).sort(\"number_of_employees\"))\n",
    "df"
   ]
  },
  {
   "cell_type": "code",
   "execution_count": null,
   "metadata": {},
   "outputs": [],
   "source": [
    "# 6\n",
    "\n",
    "df = pd.DataFrame(datos.find({\"partners\": {\"$exists\": \"False\"}}))\n",
    "df\n"
   ]
  },
  {
   "cell_type": "code",
   "execution_count": null,
   "metadata": {},
   "outputs": [],
   "source": [
    "# 7\n",
    "\n",
    "df = pd.DataFrame(datos.find({\"category_code\": {\"$size\": 0}}))\n",
    "df"
   ]
  },
  {
   "cell_type": "code",
   "execution_count": null,
   "metadata": {},
   "outputs": [],
   "source": [
    "# 8\n",
    "\n",
    "df = pd.DataFrame(datos.find({\"$and\": [{\"number_of_employees\": {\"$gte\": 100}},{\"number_of_employees\": {\"$lt\": 1000}}]}, {\"name\": 1, \"number_of_employees\": 1, \"_id\": 0}))\n",
    "df"
   ]
  },
  {
   "cell_type": "code",
   "execution_count": null,
   "metadata": {},
   "outputs": [],
   "source": [
    "# 9\n",
    "\n",
    "df = pd.DataFrame(datos.find().sort({\"ipo.valuation_amount\": -1}))\n",
    "df"
   ]
  },
  {
   "cell_type": "code",
   "execution_count": null,
   "metadata": {},
   "outputs": [],
   "source": [
    "# 10\n",
    "\n",
    "df = pd.DataFrame(datos.find().sort({\"number_of_employees\": -1}).limit(10))\n",
    "df"
   ]
  },
  {
   "cell_type": "code",
   "execution_count": null,
   "metadata": {},
   "outputs": [],
   "source": [
    "# 11\n",
    "\n",
    "df = pd.DataFrame(datos.find({\"founded_month\": {\"$gte\": 6}}).limit(1000))\n",
    "df"
   ]
  },
  {
   "cell_type": "code",
   "execution_count": null,
   "metadata": {},
   "outputs": [],
   "source": [
    "# 12\n",
    "\n",
    "df = pd.DataFrame(datos.find({\"$and\":[{\"founded_year\": {\"$lt\": 2000}}, {\"acquisitions.price_amount\": {\"$gte\": 10000000}}]}))\n",
    "df"
   ]
  },
  {
   "cell_type": "code",
   "execution_count": null,
   "metadata": {},
   "outputs": [],
   "source": [
    "# 13\n",
    "\n",
    "df = pd.DataFrame(datos.find({\"acquisition.acquired_year\": {\"$gt\": 2010}},{\"name\": 1, \"acquisition\": 1, \"_id\": 0}).sort(\"acquisitions.price_amount\"))\n",
    "df"
   ]
  },
  {
   "cell_type": "code",
   "execution_count": null,
   "metadata": {},
   "outputs": [],
   "source": [
    "# 14\n",
    "\n",
    "df = pd.DataFrame(datos.find({},{\"name\": 1, \"founded_year\": 1, \"_id\": 0}).sort(\"founded_year\"))\n",
    "df"
   ]
  },
  {
   "cell_type": "code",
   "execution_count": null,
   "metadata": {},
   "outputs": [],
   "source": [
    "# 15\n",
    "\n",
    "df = pd.DataFrame(datos.find({\"founded_day\": {\"$lte\": 7}}).sort(\"acquisitions.price_amount\", -1).limit(10))\n",
    "df"
   ]
  },
  {
   "cell_type": "code",
   "execution_count": null,
   "metadata": {},
   "outputs": [],
   "source": [
    "# 16\n",
    "\n",
    "df = pd.DataFrame(datos.find({\"$and\":[{\"category_code\": {\"$eq\": \"web\"}}, {\"number_of_employees\": {\"$gt\": 4000}}]}).sort({\"number_of_employees\": 1}))\n",
    "df"
   ]
  },
  {
   "cell_type": "code",
   "execution_count": null,
   "metadata": {},
   "outputs": [],
   "source": [
    "# 17\n",
    "\n",
    "df = pd.DataFrame(datos.find({\"$and\":[{\"acquisition.price_currency_code\": {\"$eq\": \"EUR\"}}, {\"acquisitions.price_amount\": {\"$gt\": 10000000}}]}))\n",
    "df"
   ]
  },
  {
   "cell_type": "code",
   "execution_count": null,
   "metadata": {},
   "outputs": [],
   "source": [
    "# 18\n",
    "\n",
    "df = pd.DataFrame(datos.find({\"founded_month\": {\"$lte\": 4}}, {\"name\": 1, \"acquisition\": 1, \"_id\": 0}).limit(10))\n",
    "df"
   ]
  }
 ],
 "metadata": {
  "kernelspec": {
   "display_name": "Python 3",
   "language": "python",
   "name": "python3"
  },
  "language_info": {
   "codemirror_mode": {
    "name": "ipython",
    "version": 3
   },
   "file_extension": ".py",
   "mimetype": "text/x-python",
   "name": "python",
   "nbconvert_exporter": "python",
   "pygments_lexer": "ipython3",
   "version": "3.12.6"
  },
  "toc": {
   "base_numbering": 1,
   "nav_menu": {},
   "number_sections": true,
   "sideBar": true,
   "skip_h1_title": false,
   "title_cell": "Table of Contents",
   "title_sidebar": "Contents",
   "toc_cell": false,
   "toc_position": {},
   "toc_section_display": true,
   "toc_window_display": false
  },
  "varInspector": {
   "cols": {
    "lenName": 16,
    "lenType": 16,
    "lenVar": 40
   },
   "kernels_config": {
    "python": {
     "delete_cmd_postfix": "",
     "delete_cmd_prefix": "del ",
     "library": "var_list.py",
     "varRefreshCmd": "print(var_dic_list())"
    },
    "r": {
     "delete_cmd_postfix": ") ",
     "delete_cmd_prefix": "rm(",
     "library": "var_list.r",
     "varRefreshCmd": "cat(var_dic_list()) "
    }
   },
   "position": {
    "height": "278px",
    "left": "1215px",
    "right": "20px",
    "top": "100px",
    "width": "350px"
   },
   "types_to_exclude": [
    "module",
    "function",
    "builtin_function_or_method",
    "instance",
    "_Feature"
   ],
   "window_display": false
  }
 },
 "nbformat": 4,
 "nbformat_minor": 2
}
